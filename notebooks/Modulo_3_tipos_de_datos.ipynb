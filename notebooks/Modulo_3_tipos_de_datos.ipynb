{
 "cells": [
  {
   "cell_type": "markdown",
   "metadata": {},
   "source": [
    "![title](data:image/png;base64,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)"
   ]
  },
  {
   "cell_type": "markdown",
   "metadata": {},
   "source": [
    "# En esta lectura aprenderemos acerca de los diferentes tipos de numeros, sus operadores y como usarlos:\n",
    "\n",
    "###     1.) Tipos de datos en python\n",
    "###     2.) Aritmetica basica \n",
    "###     3.) Operadores de asignacion \n",
    "###     4.) Jerarquia\n"
   ]
  },
  {
   "cell_type": "markdown",
   "metadata": {},
   "source": [
    "## En python existen principalmente dos tipos de numeros, enteros (ints) y decimales (floats)"
   ]
  },
  {
   "cell_type": "code",
   "execution_count": 1,
   "metadata": {},
   "outputs": [
    {
     "data": {
      "text/plain": [
       "5.0"
      ]
     },
     "execution_count": 1,
     "metadata": {},
     "output_type": "execute_result"
    }
   ],
   "source": [
    "#Entero\n",
    "5\n",
    "#flotante\n",
    "5.0"
   ]
  },
  {
   "cell_type": "code",
   "execution_count": 12,
   "metadata": {},
   "outputs": [
    {
     "ename": "SyntaxError",
     "evalue": "positional argument follows keyword argument (<ipython-input-12-7c9201bde286>, line 5)",
     "output_type": "error",
     "traceback": [
      "\u001b[1;36m  File \u001b[1;32m\"<ipython-input-12-7c9201bde286>\"\u001b[1;36m, line \u001b[1;32m5\u001b[0m\n\u001b[1;33m    print(sep=\"__\",arametro1,parametro2,parametro3,end=\"(fin)\")\u001b[0m\n\u001b[1;37m                  ^\u001b[0m\n\u001b[1;31mSyntaxError\u001b[0m\u001b[1;31m:\u001b[0m positional argument follows keyword argument\n"
     ]
    }
   ],
   "source": [
    "parametro1= \"hola\"\n",
    "parametro2= \"hola2\"\n",
    "parametro3 = 5\n",
    "#keyword ejemplo: end, sep \n",
    "print(prametro1,parametro2,parametro3,end=\"(fin)\")"
   ]
  },
  {
   "cell_type": "code",
   "execution_count": null,
   "metadata": {},
   "outputs": [],
   "source": []
  },
  {
   "cell_type": "markdown",
   "metadata": {},
   "source": [
    "Los numeros que son muy grandes como un millon, 1,000,000 suelen llevar comas, esto en python no se pueden usar pero podemos hacer uso de **( _ )**  para ser mas ordenados"
   ]
  },
  {
   "cell_type": "code",
   "execution_count": 2,
   "metadata": {},
   "outputs": [
    {
     "data": {
      "text/plain": [
       "1000000"
      ]
     },
     "execution_count": 2,
     "metadata": {},
     "output_type": "execute_result"
    }
   ],
   "source": [
    "#un millon \n",
    "1_000_000"
   ]
  },
  {
   "cell_type": "markdown",
   "metadata": {},
   "source": [
    "Las operaciones basicas en python son las siguientes"
   ]
  },
  {
   "cell_type": "code",
   "execution_count": 3,
   "metadata": {},
   "outputs": [
    {
     "data": {
      "text/plain": [
       "0.4"
      ]
     },
     "execution_count": 3,
     "metadata": {},
     "output_type": "execute_result"
    }
   ],
   "source": [
    "#suma\n",
    "2 + 1\n",
    "#resta\n",
    "2 - 1\n",
    "#multiplicacion\n",
    "3 * 3\n",
    "#division \n",
    "2/5\n"
   ]
  },
  {
   "cell_type": "markdown",
   "metadata": {},
   "source": [
    "Para numeros complejos es de la siguiente manera:"
   ]
  },
  {
   "cell_type": "code",
   "execution_count": 4,
   "metadata": {},
   "outputs": [
    {
     "data": {
      "text/plain": [
       "(8+1j)"
      ]
     },
     "execution_count": 4,
     "metadata": {},
     "output_type": "execute_result"
    }
   ],
   "source": [
    "#(parte real + parte imaginaria)\n",
    "2 + 3j + 6 - 2j"
   ]
  },
  {
   "cell_type": "markdown",
   "metadata": {},
   "source": [
    "Existen otras operaciones como la raiz cuadrada :"
   ]
  },
  {
   "cell_type": "code",
   "execution_count": 5,
   "metadata": {},
   "outputs": [
    {
     "data": {
      "text/plain": [
       "2.0"
      ]
     },
     "execution_count": 5,
     "metadata": {},
     "output_type": "execute_result"
    }
   ],
   "source": [
    "#raiz cuadrada\n",
    "4**0.5"
   ]
  },
  {
   "cell_type": "markdown",
   "metadata": {},
   "source": [
    "Las expresiones matematicas se resuelven de izquierda a derecha **(left sided binding)** respetando al jerarquia de las operaciones . Las expresiones como **$a^{n^{m}}$** son un caso especial pues se ejecutan de derecha a izquierda, primero ${n^{m}}$ y posteriormente el resultado se usa como exponente para **a**. A esta regla se le conoce como **right sided binding**"
   ]
  },
  {
   "cell_type": "code",
   "execution_count": 19,
   "metadata": {},
   "outputs": [
    {
     "data": {
      "text/plain": [
       "512"
      ]
     },
     "execution_count": 19,
     "metadata": {},
     "output_type": "execute_result"
    }
   ],
   "source": [
    "2**3**2\n",
    "#3**2\n",
    "#2**9"
   ]
  },
  {
   "cell_type": "code",
   "execution_count": 20,
   "metadata": {},
   "outputs": [
    {
     "data": {
      "text/plain": [
       "64"
      ]
     },
     "execution_count": 20,
     "metadata": {},
     "output_type": "execute_result"
    }
   ],
   "source": [
    "(2**3)**2"
   ]
  },
  {
   "cell_type": "markdown",
   "metadata": {},
   "source": [
    "Podemos agrupar terminos para establecer cual se ejecutara primero, ejemplo: $ (a^n)^{m} $"
   ]
  },
  {
   "cell_type": "code",
   "execution_count": 7,
   "metadata": {},
   "outputs": [
    {
     "data": {
      "text/plain": [
       "2417851639229258349412352"
      ]
     },
     "execution_count": 7,
     "metadata": {},
     "output_type": "execute_result"
    }
   ],
   "source": [
    "#a = 2, n=  3, m= 4\n",
    "2**3**4"
   ]
  },
  {
   "cell_type": "markdown",
   "metadata": {},
   "source": [
    "Podemos ver como se ejecuta el orden de las operaciones"
   ]
  },
  {
   "cell_type": "code",
   "execution_count": 8,
   "metadata": {},
   "outputs": [
    {
     "data": {
      "text/plain": [
       "105"
      ]
     },
     "execution_count": 8,
     "metadata": {},
     "output_type": "execute_result"
    }
   ],
   "source": [
    "2 + 10 * 10 + 3"
   ]
  },
  {
   "cell_type": "markdown",
   "metadata": {},
   "source": [
    "Podemos usar parentesis para especificar agrupacion de terminos"
   ]
  },
  {
   "cell_type": "code",
   "execution_count": 9,
   "metadata": {},
   "outputs": [
    {
     "data": {
      "text/plain": [
       "156"
      ]
     },
     "execution_count": 9,
     "metadata": {},
     "output_type": "execute_result"
    }
   ],
   "source": [
    "(2+10) * (10+3)"
   ]
  },
  {
   "cell_type": "markdown",
   "metadata": {},
   "source": [
    "### Operadones binarios (Bitwise operators) \n",
    "\n",
    "Son un tipo especial de operadores que nos ayudaran a hacer logica bit por bit, todos los tipos de datos al final terminan siendo solo 1's y 0's. Aunque python es un lenguaje de alto nivel tambien podemos hacer uso de algunas funciones para trabajar en algo mas cercano a lo que entiende la computadora ([operadores binarios](https://es.wikipedia.org/wiki/Operador_a_nivel_de_bits)):\n",
    "\n"
   ]
  },
  {
   "cell_type": "code",
   "execution_count": 10,
   "metadata": {},
   "outputs": [
    {
     "name": "stdout",
     "output_type": "stream",
     "text": [
      "Bitwise left shift (<<) de  8 :  16\n",
      "Bitwise right shift (>>) de  8 :  4\n",
      "Negacion (-) de  8 :  -9\n"
     ]
    }
   ],
   "source": [
    "#Corrimiento de registros\n",
    "int_num = 8\n",
    "numero_de_movimientos = 1\n",
    "#a la izquierda (multiplicacion por dos), Bitwise left shift\n",
    "int_num = 8\n",
    "\n",
    "corrimiento = int_num << numero_de_movimientos\n",
    "print(\"Bitwise left shift (<<) de \",int_num,\": \",corrimiento)\n",
    "corrimiento = int_num >> numero_de_movimientos\n",
    "print(\"Bitwise right shift (>>) de \",int_num,\": \",corrimiento)\n",
    "\n",
    "#negacion\n",
    "negacion = ~ int_num # convierte los 1's en 0's y los 0's en 1's\n",
    "print(\"Negacion (-) de \",int_num,\": \",negacion )\n",
    "#la negacion sale como negativo por el complemento a dos https://es.wikipedia.org/wiki/Complemento_a_dos\n",
    "\n"
   ]
  },
  {
   "cell_type": "markdown",
   "metadata": {},
   "source": [
    "Podemos representar los numeros enteros en base 10 a base 2 de la siguiente manera:"
   ]
  },
  {
   "cell_type": "code",
   "execution_count": 11,
   "metadata": {},
   "outputs": [
    {
     "name": "stdout",
     "output_type": "stream",
     "text": [
      "La variable 'a' vale: 42 y en binario se representa como: 0b101010 \n",
      "\n",
      "El resto de operaciones binarias son:\n",
      "\n",
      "0b101010 and 0b100011 = 0b100010\n",
      "0b101010 or 0b100011 = 0b101011\n",
      "0b101010 xor 0b100011 = 0b1001\n"
     ]
    }
   ],
   "source": [
    "a = 0b00101010\n",
    "b = 0b00100011\n",
    "#Si imprimimos la variable se obtiene en base 10\n",
    "print(\"La variable 'a' vale:\",a,\"y en binario se representa como:\",bin(a),\"\\n\")\n",
    "print(\"El resto de operaciones binarias son:\\n\")\n",
    "print(bin(a),\"and\",bin(b),\"=\",bin(a & b))\n",
    "print(bin(a),\"or\",bin(b),\"=\",bin(a | b))\n",
    "print(bin(a),\"xor\",bin(b),\"=\",bin(a ^ b))\n",
    "\n"
   ]
  },
  {
   "cell_type": "markdown",
   "metadata": {},
   "source": [
    "### Hexadecimales y octales\n",
    "Existen muchas bases numericas pero entre las mas utilizadas son la hexadecimal y en menor medida la octal, se pueden realizar las mismas operaciones y sus representaciones son las siguientes:"
   ]
  },
  {
   "cell_type": "code",
   "execution_count": 14,
   "metadata": {},
   "outputs": [
    {
     "name": "stdout",
     "output_type": "stream",
     "text": [
      "15  ==  0xf <--> True\n",
      "8  ==  0o10 <--> True\n",
      "16\n"
     ]
    },
    {
     "data": {
      "text/plain": [
       "'\\n0\\n1\\n2\\n3\\n4\\n5\\n6\\n7\\n8\\n9\\nA = 10\\nB = 11\\nC=12\\nD=13\\nE =14\\nF =15\\n10 =16\\n11 = 17\\n'"
      ]
     },
     "execution_count": 14,
     "metadata": {},
     "output_type": "execute_result"
    }
   ],
   "source": [
    "#numeros hexadecimales se representan con \"0x\" seguidos de un numero en base 16\n",
    "b10 = 15 # base 10\n",
    "b16 = 0x0F\n",
    "#revisamos si son identicos b10 y b16\n",
    "print(b10,\" == \", hex(b16), \"<-->\",b10 == b16)\n",
    "\n",
    "#numeros octales se representan con \"0o\" seguidos de un numero en base 8\n",
    "b8 = 0o10\n",
    "b10 = 8\n",
    "print(b10,\" == \", oct(b8), \"<-->\",b10 == b8)\n",
    "\n",
    "numero = 0x10\n",
    "print(numero)\n",
    "\n",
    "\"\"\"\n",
    "0\n",
    "1\n",
    "2\n",
    "3\n",
    "4\n",
    "5\n",
    "6\n",
    "7\n",
    "8\n",
    "9\n",
    "A = 10\n",
    "B = 11\n",
    "C=12\n",
    "D=13\n",
    "E =14\n",
    "F =15\n",
    "10 =16\n",
    "11 = 17\n",
    "\"\"\""
   ]
  },
  {
   "cell_type": "code",
   "execution_count": 18,
   "metadata": {},
   "outputs": [
    {
     "data": {
      "text/plain": [
       "1"
      ]
     },
     "execution_count": 18,
     "metadata": {},
     "output_type": "execute_result"
    }
   ],
   "source": [
    "10%2\n",
    "11%2"
   ]
  },
  {
   "cell_type": "markdown",
   "metadata": {},
   "source": [
    "***\n"
   ]
  },
  {
   "cell_type": "markdown",
   "metadata": {},
   "source": [
    "Podemos usar python como una calculadora, siempre teniendo en cuenta la jerarquia de operaciones"
   ]
  },
  {
   "cell_type": "markdown",
   "metadata": {},
   "source": [
    "![alt text](https://study.com/cimages/multimages/16/precedence_table.png \"Title\")"
   ]
  },
  {
   "cell_type": "markdown",
   "metadata": {},
   "source": [
    "Tambien podemos usar operadores de atajo como:"
   ]
  },
  {
   "cell_type": "code",
   "execution_count": 13,
   "metadata": {},
   "outputs": [
    {
     "name": "stdout",
     "output_type": "stream",
     "text": [
      "3\n",
      "2\n",
      "6\n",
      "3.0\n"
     ]
    }
   ],
   "source": [
    "i=2\n",
    "#i=i+1\n",
    "i+=1\n",
    "print(i)\n",
    "#i=i-1\n",
    "i-=1\n",
    "print(i)\n",
    "#i=i*3\n",
    "i*=3\n",
    "print(i)\n",
    "#i=i/2\n",
    "i/=2\n",
    "print(i)\n"
   ]
  },
  {
   "cell_type": "markdown",
   "metadata": {},
   "source": [
    "***"
   ]
  },
  {
   "cell_type": "markdown",
   "metadata": {},
   "source": [
    "## Asignacion de variables\n",
    "\n",
    "En los casos anteriores solo se desplego la informacion de la operacion resultante\n",
    "\n",
    "Podemos asignar nombres a variables (excepto keywords) para almacenar los resultados de las operaciones, ejemplo:"
   ]
  },
  {
   "cell_type": "code",
   "execution_count": 14,
   "metadata": {},
   "outputs": [
    {
     "data": {
      "text/plain": [
       "5"
      ]
     },
     "execution_count": 14,
     "metadata": {},
     "output_type": "execute_result"
    }
   ],
   "source": [
    "#variable de nombre a que almacena el valor 5\n",
    "a =5\n",
    "#para poder obervar el valor basta con imprimirla en el interprete de la siguiente manera\n",
    "a"
   ]
  },
  {
   "cell_type": "markdown",
   "metadata": {},
   "source": [
    "A diferencia de otros lenguajes de programacion podemos omitir la palabra revervada **var**"
   ]
  },
  {
   "cell_type": "code",
   "execution_count": 15,
   "metadata": {},
   "outputs": [
    {
     "data": {
      "text/plain": [
       "10"
      ]
     },
     "execution_count": 15,
     "metadata": {},
     "output_type": "execute_result"
    }
   ],
   "source": [
    "#podemos usar A para redefinir su propio valor\n",
    "a = a + a\n",
    "#sumamos dos veces el valor de a y lo guardamos en la misma variable, checamos su valor\n",
    "a"
   ]
  },
  {
   "cell_type": "markdown",
   "metadata": {},
   "source": [
    "## Los nombres que puedes usar al crear estas etiquetas (nombres de variables )deben seguir algunas reglas:\n",
    "\n",
    "### 1. Los nombres no pueden comenzar con un número.\n",
    "### 2. No puede haber espacios en el nombre, usa _ en su lugar.\n",
    "### 3. No puedes usar ninguno de estos símbolos: '\", <> /? | \\ ()! @ # $% ^ & * ~ - +\n",
    "### 4. Se considera una buena práctica (PEP8) que los nombres estén en minúsculas (snake_case para nombres de mas de una palabra).\n"
   ]
  },
  {
   "cell_type": "code",
   "execution_count": 16,
   "metadata": {},
   "outputs": [
    {
     "data": {
      "text/plain": [
       "10.0"
      ]
     },
     "execution_count": 16,
     "metadata": {},
     "output_type": "execute_result"
    }
   ],
   "source": [
    "#ejemplos\n",
    "my_income = 100\n",
    "\n",
    "tax_rate = 0.1\n",
    "\n",
    "my_taxes = my_income*tax_rate\n",
    "#muestra mis taxes (impuestos)\n",
    "my_taxes"
   ]
  },
  {
   "cell_type": "markdown",
   "metadata": {},
   "source": [
    " ### - Aprendimos algunos de los conceptos básicos de los números en Python.\n",
    " ### - También aprendimos cómo hacer aritmética y usar Python como calculadora básica.\n",
    " ### - Luego lo terminamos aprendiendo sobre la asignación de variables en Python.\n",
    "\n",
    "## **A continuación aprenderemos sobre Strings (cadenas)**"
   ]
  },
  {
   "cell_type": "markdown",
   "metadata": {},
   "source": [
    "## Las cadenas se utilizan en Python para registrar información de texto, como el nombre de una persona.\n",
    "\n",
    "  Los strings en Python son en realidad una * secuencia *, lo que básicamente significa que Python realiza un seguimiento\n",
    "  de cada elemento de la cadena como una secuencia. \n",
    "  \n",
    "  Por ejemplo, Python entiende:\n",
    "  ** La cadena \"hola\" **\n",
    "  Es una secuencia de letras en un orden específico. Esto significa podremos usar la indexación para tomar letras particulares   (como la primera letra, o la última letra).\n",
    "\n",
    "  Esta idea de secuencia es importante en Python y la retomaremos este termino\n",
    "  más adelante.\n",
    "\n",
    "  ## En este documento aprenderemos sobre lo siguiente:\n",
    "  \n",
    "### 1.) Creando cadenas\n",
    "### 2.) Impresión de cadenas\n",
    "### 3) Indexación y corte de cadenas\n",
    "### 4.) Propiedades de la cadena\n",
    "### 5.) Métodos de cadena\n",
    "### 6.) Formato de impresión"
   ]
  },
  {
   "cell_type": "code",
   "execution_count": 17,
   "metadata": {},
   "outputs": [
    {
     "data": {
      "text/plain": [
       "'hello'"
      ]
     },
     "execution_count": 17,
     "metadata": {},
     "output_type": "execute_result"
    }
   ],
   "source": [
    "# Creando un string\n",
    "'hello'# se imprime en consola"
   ]
  },
  {
   "cell_type": "code",
   "execution_count": 18,
   "metadata": {},
   "outputs": [
    {
     "data": {
      "text/plain": [
       "'Esto tambien es una cadena (string)'"
      ]
     },
     "execution_count": 18,
     "metadata": {},
     "output_type": "execute_result"
    }
   ],
   "source": [
    "'Esto tambien es una cadena (string)'"
   ]
  },
  {
   "cell_type": "markdown",
   "metadata": {},
   "source": [
    "Tambien podemos construir cadenas usando comillas dobles"
   ]
  },
  {
   "cell_type": "code",
   "execution_count": 19,
   "metadata": {},
   "outputs": [
    {
     "data": {
      "text/plain": [
       "'Strings construido con comillas dobles'"
      ]
     },
     "execution_count": 19,
     "metadata": {},
     "output_type": "execute_result"
    }
   ],
   "source": [
    "\"Strings construido con comillas dobles\""
   ]
  },
  {
   "cell_type": "markdown",
   "metadata": {},
   "source": [
    "**El siguiente codigo genera un error, hay que tener cuidado de cerrar las comillas y usar un numero indicado de ellas**"
   ]
  },
  {
   "cell_type": "code",
   "execution_count": 20,
   "metadata": {},
   "outputs": [
    {
     "ename": "SyntaxError",
     "evalue": "invalid syntax (<ipython-input-20-f5e4cc1816b8>, line 1)",
     "output_type": "error",
     "traceback": [
      "\u001b[1;36m  File \u001b[1;32m\"<ipython-input-20-f5e4cc1816b8>\"\u001b[1;36m, line \u001b[1;32m1\u001b[0m\n\u001b[1;33m    ' si agrego una comilla ' dentro de dos comillas '\u001b[0m\n\u001b[1;37m                                   ^\u001b[0m\n\u001b[1;31mSyntaxError\u001b[0m\u001b[1;31m:\u001b[0m invalid syntax\n"
     ]
    }
   ],
   "source": [
    "' si agrego una comilla ' dentro de dos comillas '"
   ]
  },
  {
   "cell_type": "markdown",
   "metadata": {},
   "source": [
    "La manera correcta de imprimir una comilla seria usando una juego con las comillas dobles"
   ]
  },
  {
   "cell_type": "code",
   "execution_count": 21,
   "metadata": {},
   "outputs": [
    {
     "data": {
      "text/plain": [
       "\"Esta es una manera correcta de imprimir una comilla simple -> ' <- para evitar errores \""
      ]
     },
     "execution_count": 21,
     "metadata": {},
     "output_type": "execute_result"
    }
   ],
   "source": [
    "\"Esta es una manera correcta de imprimir una comilla simple -> ' <- para evitar errores \""
   ]
  },
  {
   "cell_type": "markdown",
   "metadata": {},
   "source": [
    "**El siguiente paso seria aprender como imprimir strings**"
   ]
  },
  {
   "cell_type": "code",
   "execution_count": 22,
   "metadata": {},
   "outputs": [
    {
     "name": "stdout",
     "output_type": "stream",
     "text": [
      "Esto de aqui es una cadena\n"
     ]
    }
   ],
   "source": [
    "#usando la funcion print()\n",
    "print(\"Esto de aqui es una cadena\")"
   ]
  },
  {
   "cell_type": "markdown",
   "metadata": {},
   "source": [
    "**Otras formas de usar print**"
   ]
  },
  {
   "cell_type": "code",
   "execution_count": 23,
   "metadata": {},
   "outputs": [
    {
     "name": "stdout",
     "output_type": "stream",
     "text": [
      "Hello World 1\n",
      "Hello World 2\n",
      "Usando \n",
      " impresion de nueva linea\n",
      "\n",
      "\n",
      "que produjo \\n?\n"
     ]
    }
   ],
   "source": [
    "print('Hello World 1')\n",
    "print('Hello World 2')\n",
    "print('Usando \\n impresion de nueva linea')\n",
    "print('\\n')\n",
    "print('que produjo \\\\n?')"
   ]
  },
  {
   "cell_type": "markdown",
   "metadata": {},
   "source": [
    "### La funcion print acepta dos tipos de argumentos:\n",
    "   1. Posicionales \n",
    "   2. Argumentos de palabras clave"
   ]
  },
  {
   "cell_type": "code",
   "execution_count": 24,
   "metadata": {},
   "outputs": [
    {
     "name": "stdout",
     "output_type": "stream",
     "text": [
      "5 cadena True\n"
     ]
    }
   ],
   "source": [
    "#posicionales son los valores que va a imprimir\n",
    "arg1 = 5\n",
    "arg2 = \"cadena\"\n",
    "arg3 = True\n",
    "print(arg1,arg2,arg3)"
   ]
  },
  {
   "cell_type": "code",
   "execution_count": 25,
   "metadata": {},
   "outputs": [
    {
     "name": "stdout",
     "output_type": "stream",
     "text": [
      "5--cadena--True$"
     ]
    }
   ],
   "source": [
    "#argumentos de palabra clave\n",
    "#sep -> define el separador entre cada argumento posicional\n",
    "#end -> define el valor al final de la llamada a la funcion print\n",
    "print(arg1,arg2,arg3,end=\"$\",sep=\"--\")"
   ]
  },
  {
   "cell_type": "markdown",
   "metadata": {},
   "source": [
    "Los argumentos posicionales  <span style=\"color: red;\">(positional arguments)</span> van antes que los argumentos de palabbra clave  <span style=\"color: green;\">(keyword arguments)</span>. \n",
    "<br><br><b> En caso contrario hay un error de sintaxis"
   ]
  },
  {
   "cell_type": "code",
   "execution_count": 26,
   "metadata": {},
   "outputs": [
    {
     "ename": "SyntaxError",
     "evalue": "positional argument follows keyword argument (<ipython-input-26-419a17362ae2>, line 1)",
     "output_type": "error",
     "traceback": [
      "\u001b[1;36m  File \u001b[1;32m\"<ipython-input-26-419a17362ae2>\"\u001b[1;36m, line \u001b[1;32m1\u001b[0m\n\u001b[1;33m    print(sep=\"?\",arg1,arg2,arg3)\u001b[0m\n\u001b[1;37m                 ^\u001b[0m\n\u001b[1;31mSyntaxError\u001b[0m\u001b[1;31m:\u001b[0m positional argument follows keyword argument\n"
     ]
    }
   ],
   "source": [
    "print(sep=\"?\",arg1,arg2,arg3)"
   ]
  },
  {
   "cell_type": "markdown",
   "metadata": {},
   "source": [
    "### En las cadenas de texto podemos agregar variables a una cadena usando ***format***"
   ]
  },
  {
   "cell_type": "code",
   "execution_count": 27,
   "metadata": {},
   "outputs": [
    {
     "name": "stdout",
     "output_type": "stream",
     "text": [
      "Mi nombre es Gustavo y estoy aprendiendo python\n"
     ]
    }
   ],
   "source": [
    "datos = \"Mi nombre es {} y estoy aprendiendo {}\".format(\"Gustavo\",\"python\")\n",
    "print(datos)"
   ]
  },
  {
   "cell_type": "markdown",
   "metadata": {},
   "source": [
    "Podemos pasar variables a esta cadena"
   ]
  },
  {
   "cell_type": "code",
   "execution_count": 28,
   "metadata": {},
   "outputs": [
    {
     "name": "stdout",
     "output_type": "stream",
     "text": [
      "Mi nombre es gustavo y estoy aprendiendo python\n"
     ]
    }
   ],
   "source": [
    "nombre=\"gustavo\"\n",
    "lenguaje=\"python\"\n",
    "datos = \"Mi nombre es {} y estoy aprendiendo {}\".format(nombre,lenguaje)\n",
    "print(datos)"
   ]
  },
  {
   "cell_type": "markdown",
   "metadata": {},
   "source": [
    "#### Se puede modificar la posicion de los argumentos"
   ]
  },
  {
   "cell_type": "code",
   "execution_count": 29,
   "metadata": {},
   "outputs": [
    {
     "name": "stdout",
     "output_type": "stream",
     "text": [
      "Mi nombre es python y estoy aprendiendo gustavo\n"
     ]
    }
   ],
   "source": [
    "datos = \"Mi nombre es {1} y estoy aprendiendo {0}\".format(nombre,lenguaje)\n",
    "print(datos)"
   ]
  },
  {
   "cell_type": "markdown",
   "metadata": {},
   "source": [
    "#### Las operaciones que podemos hacer con cadenas son:\n",
    "1. ) La concatenacion\n",
    "2. ) La repeticion"
   ]
  },
  {
   "cell_type": "code",
   "execution_count": 30,
   "metadata": {},
   "outputs": [
    {
     "name": "stdout",
     "output_type": "stream",
     "text": [
      "Hola Adios\n"
     ]
    }
   ],
   "source": [
    "#concatenacion\n",
    "cadena1 = \"Hola \"\n",
    "cadena2 = \"Adios\"\n",
    "cadena_concatenada = cadena1+cadena2\n",
    "print(cadena_concatenada)"
   ]
  },
  {
   "cell_type": "code",
   "execution_count": 31,
   "metadata": {},
   "outputs": [
    {
     "name": "stdout",
     "output_type": "stream",
     "text": [
      "hola hola hola hola hola \n"
     ]
    }
   ],
   "source": [
    "#repeticion\n",
    "saludo = \"hola \"\n",
    "repeticion = 5 \n",
    "print(saludo*repeticion)"
   ]
  },
  {
   "cell_type": "markdown",
   "metadata": {},
   "source": [
    "### Existen un elemento llamado indices, que nos permiten acceder de manera individual a los valores de una cadena"
   ]
  },
  {
   "cell_type": "code",
   "execution_count": 32,
   "metadata": {},
   "outputs": [
    {
     "name": "stdout",
     "output_type": "stream",
     "text": [
      "El primer elemento de mi cadena es:  E\n",
      "El primer elemento de mi cadena es:  n\n"
     ]
    }
   ],
   "source": [
    "cad = \"Esto es una cadena. Esta parte tambien\"\n",
    "#accediendo al primer elemento\n",
    "print(\"El primer elemento de mi cadena es: \",cad[0])\n",
    "#accediendo al ultimo elemento\n",
    "print(\"El ultimo elemento de mi cadena es: \",cad[-1])\n"
   ]
  },
  {
   "cell_type": "markdown",
   "metadata": {},
   "source": [
    "### Se puede acceder a un un subconjunto de caracteres indicando el inicio y fin del indice"
   ]
  },
  {
   "cell_type": "code",
   "execution_count": 38,
   "metadata": {},
   "outputs": [
    {
     "ename": "TypeError",
     "evalue": "'tuple' object does not support item assignment",
     "output_type": "error",
     "traceback": [
      "\u001b[1;31m---------------------------------------------------------------------------\u001b[0m",
      "\u001b[1;31mTypeError\u001b[0m                                 Traceback (most recent call last)",
      "\u001b[1;32m<ipython-input-38-fc6ef7aeb5d1>\u001b[0m in \u001b[0;36m<module>\u001b[1;34m\u001b[0m\n\u001b[0;32m      1\u001b[0m \u001b[0mtupla\u001b[0m \u001b[1;33m=\u001b[0m \u001b[1;33m(\u001b[0m\u001b[1;36m2\u001b[0m\u001b[1;33m,\u001b[0m\u001b[1;36m4\u001b[0m\u001b[1;33m)\u001b[0m\u001b[1;33m\u001b[0m\u001b[1;33m\u001b[0m\u001b[0m\n\u001b[0;32m      2\u001b[0m \u001b[0mtype\u001b[0m\u001b[1;33m(\u001b[0m\u001b[0mtupla\u001b[0m\u001b[1;33m)\u001b[0m\u001b[1;33m\u001b[0m\u001b[1;33m\u001b[0m\u001b[0m\n\u001b[1;32m----> 3\u001b[1;33m \u001b[0mtupla\u001b[0m\u001b[1;33m[\u001b[0m\u001b[1;36m1\u001b[0m\u001b[1;33m]\u001b[0m\u001b[1;33m=\u001b[0m \u001b[1;36m0\u001b[0m\u001b[1;33m\u001b[0m\u001b[1;33m\u001b[0m\u001b[0m\n\u001b[0m",
      "\u001b[1;31mTypeError\u001b[0m: 'tuple' object does not support item assignment"
     ]
    }
   ],
   "source": [
    "\n",
    "\n",
    "\n",
    "tupla = (2,4)\n",
    "type(tupla)\n",
    "tupla[1]= 0"
   ]
  },
  {
   "cell_type": "markdown",
   "metadata": {},
   "source": [
    "Los metodos mas usuales para una cadena son split(), len()"
   ]
  },
  {
   "cell_type": "code",
   "execution_count": 34,
   "metadata": {},
   "outputs": [
    {
     "name": "stdout",
     "output_type": "stream",
     "text": [
      "38\n"
     ]
    }
   ],
   "source": [
    "longitud_cadena = len(cad)\n",
    "print(longitud_cadena)"
   ]
  },
  {
   "cell_type": "code",
   "execution_count": 35,
   "metadata": {},
   "outputs": [
    {
     "name": "stdout",
     "output_type": "stream",
     "text": [
      "['Esto', 'es', 'una', 'cadena.', 'Esta', 'parte', 'tambien']\n"
     ]
    }
   ],
   "source": [
    "#split creara un conjunto de elementos, donde el elemento de separacion son los espacios en blanco\n",
    "separando_cadena = cad.split()\n",
    "print(separando_cadena)"
   ]
  },
  {
   "cell_type": "markdown",
   "metadata": {},
   "source": [
    "Para indicar otro valor de separacion basta con agregar un parametro a la funcion split()"
   ]
  },
  {
   "cell_type": "markdown",
   "metadata": {},
   "source": [
    "### Separar por cada vocal \"e\""
   ]
  },
  {
   "cell_type": "code",
   "execution_count": 36,
   "metadata": {},
   "outputs": [
    {
     "name": "stdout",
     "output_type": "stream",
     "text": [
      "['Esto ', 's una cad', 'na. Esta part', ' tambi', 'n']\n"
     ]
    }
   ],
   "source": [
    "separando_cadena = cad.split('e')\n",
    "print(separando_cadena)"
   ]
  },
  {
   "cell_type": "markdown",
   "metadata": {},
   "source": [
    "Usando los indices es posible imprimir una lista en orden inverso"
   ]
  },
  {
   "cell_type": "code",
   "execution_count": 37,
   "metadata": {},
   "outputs": [
    {
     "data": {
      "text/plain": [
       "'levin otla ed ejaugnel nu se nohtyP'"
      ]
     },
     "execution_count": 37,
     "metadata": {},
     "output_type": "execute_result"
    }
   ],
   "source": [
    "cadena = \"Python es un lenguaje de alto nivel\"\n",
    "cadena[-1::-1]"
   ]
  },
  {
   "cell_type": "markdown",
   "metadata": {},
   "source": [
    "\n",
    "***\n",
    "\n",
    "Dentro de python podemos usar indices negativos, ejemplo: \n",
    "1. -1 Hace referencia al ultimo elemento de la cadena,\n",
    "2. -2 Hace referencia al penultimo y asi sucesivamente.\n",
    "\n",
    "cadena[inicio: final: incremento]\n",
    "\n",
    "Podemos especificar hasta 3 indices, ejemplo:\n"
   ]
  },
  {
   "cell_type": "code",
   "execution_count": 38,
   "metadata": {},
   "outputs": [
    {
     "data": {
      "text/plain": [
       "'Ph   na tpto'"
      ]
     },
     "execution_count": 38,
     "metadata": {},
     "output_type": "execute_result"
    }
   ],
   "source": [
    "cadena = \"Python es un lenguaje interpretado\"\n",
    "#imprime la cadena desde el primer elemento hasta el ultimo haciendo saltos de 3 en 3\n",
    "cadena[::3]"
   ]
  },
  {
   "cell_type": "code",
   "execution_count": 21,
   "metadata": {},
   "outputs": [
    {
     "ename": "NameError",
     "evalue": "name 'cadena' is not defined",
     "output_type": "error",
     "traceback": [
      "\u001b[1;31m---------------------------------------------------------------------------\u001b[0m",
      "\u001b[1;31mNameError\u001b[0m                                 Traceback (most recent call last)",
      "\u001b[1;32m<ipython-input-21-b78953b9a49b>\u001b[0m in \u001b[0;36m<module>\u001b[1;34m\u001b[0m\n\u001b[0;32m      1\u001b[0m \u001b[1;31m#Tambien hace lo mismo\u001b[0m\u001b[1;33m\u001b[0m\u001b[1;33m\u001b[0m\u001b[1;33m\u001b[0m\u001b[0m\n\u001b[1;32m----> 2\u001b[1;33m \u001b[0mcadena\u001b[0m\u001b[1;33m[\u001b[0m\u001b[1;36m0\u001b[0m\u001b[1;33m:\u001b[0m\u001b[0mlen\u001b[0m\u001b[1;33m(\u001b[0m\u001b[0mcadena\u001b[0m\u001b[1;33m)\u001b[0m\u001b[1;33m:\u001b[0m\u001b[1;36m3\u001b[0m\u001b[1;33m]\u001b[0m\u001b[1;33m\u001b[0m\u001b[1;33m\u001b[0m\u001b[0m\n\u001b[0m",
      "\u001b[1;31mNameError\u001b[0m: name 'cadena' is not defined"
     ]
    }
   ],
   "source": [
    "#Tambien hace lo mismo\n",
    "cadena[0:len(cadena):3]"
   ]
  },
  {
   "cell_type": "markdown",
   "metadata": {},
   "source": [
    "### Funcion input"
   ]
  },
  {
   "cell_type": "code",
   "execution_count": 22,
   "metadata": {},
   "outputs": [
    {
     "name": "stdout",
     "output_type": "stream",
     "text": [
      "5\n"
     ]
    }
   ],
   "source": [
    "x = input()"
   ]
  },
  {
   "cell_type": "code",
   "execution_count": 23,
   "metadata": {},
   "outputs": [
    {
     "data": {
      "text/plain": [
       "str"
      ]
     },
     "execution_count": 23,
     "metadata": {},
     "output_type": "execute_result"
    }
   ],
   "source": [
    "type(x)"
   ]
  },
  {
   "cell_type": "markdown",
   "metadata": {},
   "source": [
    "back slash"
   ]
  },
  {
   "cell_type": "code",
   "execution_count": 33,
   "metadata": {},
   "outputs": [
    {
     "name": "stdout",
     "output_type": "stream",
     "text": [
      "i'm gustavo\n"
     ]
    }
   ],
   "source": [
    "print('i\\'m gustavo')\n",
    "a = 'c'\n",
    "b = \"hola\""
   ]
  },
  {
   "cell_type": "code",
   "execution_count": null,
   "metadata": {},
   "outputs": [],
   "source": []
  }
 ],
 "metadata": {
  "kernelspec": {
   "display_name": "Python 3",
   "language": "python",
   "name": "python3"
  },
  "language_info": {
   "codemirror_mode": {
    "name": "ipython",
    "version": 3
   },
   "file_extension": ".py",
   "mimetype": "text/x-python",
   "name": "python",
   "nbconvert_exporter": "python",
   "pygments_lexer": "ipython3",
   "version": "3.8.3"
  }
 },
 "nbformat": 4,
 "nbformat_minor": 2
}
