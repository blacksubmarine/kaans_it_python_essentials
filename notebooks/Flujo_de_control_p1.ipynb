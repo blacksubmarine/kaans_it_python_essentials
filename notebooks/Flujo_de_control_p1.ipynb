{
 "cells": [
  {
   "cell_type": "markdown",
   "metadata": {},
   "source": [
    "# Condicionales\n",
    "En esta lectura cubriremos el flujo de control en python, basicamente como dictarle que nuestro codigo se comporte de la manera que queremos. <br>\n",
    "Lo que mas necesitamos para completar esta parte son los operadores de comparacion por lo que vale la pena volverlos a mencionar."
   ]
  },
  {
   "cell_type": "markdown",
   "metadata": {},
   "source": []
  },
  {
   "cell_type": "markdown",
   "metadata": {},
   "source": [
    "## $\\color{blue}{\\text{Operadores de comparación}}$\n"
   ]
  },
  {
   "cell_type": "code",
   "execution_count": 1,
   "metadata": {},
   "outputs": [
    {
     "data": {
      "text/plain": [
       "True"
      ]
     },
     "execution_count": 1,
     "metadata": {},
     "output_type": "execute_result"
    }
   ],
   "source": [
    "# mayor que\n",
    "1 > 2\n",
    "# menor que\n",
    "1 < 2\n",
    "# mayor o igual que\n",
    "1 >= 1\n",
    "# menor o igual que\n",
    "1 <= 4\n",
    "# comparacion\n",
    "1 == 1\n",
    "1 == \"1\"\n",
    "'hi' == 'bye'\n",
    "# inequidad\n",
    "1 != 2"
   ]
  },
  {
   "cell_type": "markdown",
   "metadata": {},
   "source": [
    "Todos las operaciones anteriores regresan un valor $\\color{green}{\\text{Verdadero}}$ pero tambien es valido si arrojaran un valor $\\color{red}{\\text{Falso}}$"
   ]
  },
  {
   "cell_type": "markdown",
   "metadata": {},
   "source": [
    "## $\\color{blue}{\\text{Operadores logicos}}$\n"
   ]
  },
  {
   "cell_type": "code",
   "execution_count": 2,
   "metadata": {},
   "outputs": [
    {
     "data": {
      "text/plain": [
       "True"
      ]
     },
     "execution_count": 2,
     "metadata": {},
     "output_type": "execute_result"
    }
   ],
   "source": [
    "# AND\n",
    "(1 > 2) and (2 < 3)\n",
    "\n",
    "# OR\n",
    "(1 > 2) or (2 < 3)\n",
    "\n",
    "# Multiples operadores logicos \n",
    "(1 == 2) or (2 == 3) or (4 == 4)"
   ]
  },
  {
   "cell_type": "markdown",
   "metadata": {},
   "source": [
    "## $\\color{purple}{\\text{Sentencias: if, elif, else}}$"
   ]
  },
  {
   "cell_type": "markdown",
   "metadata": {},
   "source": [
    "La sangría (tab) es extremadamente importante en Python y es básicamente la forma de Python de\n",
    "deshacerse de los corchetes adjuntos como {} hemos visto en el pasado y son comunes\n",
    "en otros idiomas.<br><br>\n",
    "Esto se suma a la legibilidad de Python y es una gran parte del\n",
    "\"Zen de Python\". También es una gran razón por la que es tan popular. Cualquier\n",
    "editor de texto o IDE debería poder aplicarla en automatico, pero siempre vuelve a verificar\n",
    "esto si alguna vez obtiene errores en tu código! <br>\n",
    "\n",
    "Los bloques de código se indican con dos puntos (:)."
   ]
  },
  {
   "cell_type": "markdown",
   "metadata": {},
   "source": [
    "#### Algunos ejemplos de if son:"
   ]
  },
  {
   "cell_type": "code",
   "execution_count": 3,
   "metadata": {},
   "outputs": [
    {
     "name": "stdout",
     "output_type": "stream",
     "text": [
      "Yep!\n",
      "yep!\n"
     ]
    }
   ],
   "source": [
    "if 1 < 2:\n",
    "    print('Yep!')\n",
    "\n",
    "if 1 < 2:\n",
    "    print('yep!')"
   ]
  },
  {
   "cell_type": "markdown",
   "metadata": {},
   "source": [
    "Como los dos casos anteriores son verdaderos den to de los $\\color{blue}{\\text{if's}}$ se ejecutan los dos, para hacer que solo se ejecute uno se usa la sentencia $\\color{blue}{\\text{else}}$"
   ]
  },
  {
   "cell_type": "code",
   "execution_count": 4,
   "metadata": {},
   "outputs": [
    {
     "name": "stdout",
     "output_type": "stream",
     "text": [
      "Esto se ejecuta primero\n"
     ]
    }
   ],
   "source": [
    "if 1 < 2:\n",
    "    print('Esto se ejecuta primero')\n",
    "else:\n",
    "    print('Esto solo se ejecuta si lo primero no se ejecuto')\n"
   ]
  },
  {
   "cell_type": "code",
   "execution_count": 5,
   "metadata": {},
   "outputs": [
    {
     "name": "stdout",
     "output_type": "stream",
     "text": [
      "Segundo\n"
     ]
    }
   ],
   "source": [
    "if 1 > 2:\n",
    "    print('Primero')\n",
    "else:\n",
    "    print('Segundo')"
   ]
  },
  {
   "cell_type": "markdown",
   "metadata": {},
   "source": [
    "Para agregar mas condicionales (como $\\color{blue}{\\text{if}}$ y $\\color{blue}{\\text{else}}$)"
   ]
  },
  {
   "cell_type": "code",
   "execution_count": 6,
   "metadata": {},
   "outputs": [
    {
     "name": "stdout",
     "output_type": "stream",
     "text": [
      "en medio\n"
     ]
    }
   ],
   "source": [
    "if 1 == 2:\n",
    "    print('Primero')\n",
    "elif 3 == 3:\n",
    "    print('en medio')\n",
    "else:\n",
    "    print('ultimo')"
   ]
  },
  {
   "cell_type": "markdown",
   "metadata": {},
   "source": [
    "Podemos usar un if para preguntar si un valor pernetece a una lista"
   ]
  },
  {
   "cell_type": "code",
   "execution_count": 7,
   "metadata": {},
   "outputs": [
    {
     "name": "stdout",
     "output_type": "stream",
     "text": [
      "True\n"
     ]
    }
   ],
   "source": [
    "lista = [1,2,3,4,5]\n",
    "\n",
    "#preguntamos si 1 esta dentro de la lista\n",
    "num = 1\n",
    "print(num in lista)\n"
   ]
  },
  {
   "cell_type": "markdown",
   "metadata": {},
   "source": [
    "#### El resultado anterior muestra que si esta dentro, ahora bien podemos incluirlo dentro de un if o elif"
   ]
  },
  {
   "cell_type": "code",
   "execution_count": 8,
   "metadata": {},
   "outputs": [
    {
     "name": "stdout",
     "output_type": "stream",
     "text": [
      "El numero \"1\" esta dentro de la lista\n"
     ]
    }
   ],
   "source": [
    "if num in lista:\n",
    "    print(\"El numero \\\"\"+str(num)+\"\\\" esta dentro de la lista\"  )\n",
    "#usamos la funcion str() para agregar el numero a la cadena y concatenarlo al string "
   ]
  },
  {
   "cell_type": "markdown",
   "metadata": {},
   "source": [
    "#### En cambio si preguntamos por 10 si esta dentro de la lista, podriamos hacerlo de la siguiente manera"
   ]
  },
  {
   "cell_type": "code",
   "execution_count": 9,
   "metadata": {},
   "outputs": [
    {
     "name": "stdout",
     "output_type": "stream",
     "text": [
      "El numero 10 no esta dentro de la lista\n",
      "\n",
      "La lista es:  [1, 2, 3, 4, 5]\n"
     ]
    }
   ],
   "source": [
    "num2 = 10\n",
    "if num2 in lista:\n",
    "    print(\"El numero {} esta dentro de la lista\".format(num2))\n",
    "else:\n",
    "    print(\"El numero\",num2,\"no esta dentro de la lista\")\n",
    "\n",
    "print(\"\\nLa lista es: \",lista)"
   ]
  },
  {
   "cell_type": "markdown",
   "metadata": {},
   "source": [
    "#### En resument un bloque if nos permite decidir que camino queremos que tome la ejecucion de nuestro programa, pero hay que recordar que al final del bloque if, el flujo de nuestro programa seguira su curso normal"
   ]
  },
  {
   "cell_type": "code",
   "execution_count": 10,
   "metadata": {},
   "outputs": [
    {
     "name": "stdout",
     "output_type": "stream",
     "text": [
      "Esto esta dentro del bloque principal del programa en python\n",
      "Esto esta dentro de un if\n"
     ]
    }
   ],
   "source": [
    "print(\"Esto esta dentro del bloque principal del programa en python\")\n",
    "valor_bool = True\n",
    "if valor_bool == True:\n",
    "    print(\"Esto esta dentro de un if\")\n",
    "else:\n",
    "    print(\"Esto esta dentro de un else que pertenece al if de arriba\")"
   ]
  },
  {
   "cell_type": "markdown",
   "metadata": {},
   "source": [
    "#### Como podemos esperar el print debajo del else no se ejecuto, por que se cumplio la condicion del if "
   ]
  },
  {
   "cell_type": "code",
   "execution_count": 11,
   "metadata": {},
   "outputs": [
    {
     "name": "stdout",
     "output_type": "stream",
     "text": [
      "Esto se ejecuto porque no es igual False que True (!=) \n",
      "\n",
      "El valor dentro de la expresion del if es:  True\n"
     ]
    }
   ],
   "source": [
    "valor_bool2 = False\n",
    "\n",
    "if valor_bool2 != True:\n",
    "    print(\"Esto se ejecuto porque no es igual False que True (!=) \\n\")\n",
    "print(\"El valor dentro de la expresion del if es: \",valor_bool2 != True)"
   ]
  },
  {
   "cell_type": "markdown",
   "metadata": {},
   "source": [
    "#### Switch case\n",
    "En python no existen los switch case a diferencia de otros lenguajes de programacion, sin embargo, tambien se pueden implementar con un diccionario"
   ]
  },
  {
   "cell_type": "code",
   "execution_count": 12,
   "metadata": {},
   "outputs": [
    {
     "name": "stdout",
     "output_type": "stream",
     "text": [
      "Programa que determina si dos numeros son pares o no\n",
      "Ingresa un numero: 7\n",
      "Ingresa otro numero: 9\n",
      "los numeros 7 y 9 son impares\n"
     ]
    }
   ],
   "source": [
    "print(\"Programa que determina si dos numeros son pares o no\")\n",
    "num_a = int(input(\"Ingresa un numero: \"))\n",
    "num_b = int(input(\"Ingresa otro numero: \"))\n",
    "\n",
    "\n",
    "#si el resultado del numero con modulo dos es 1 --> es impar\n",
    "#si el resultado del numero con modulo dos es 0 --> es par\n",
    "\n",
    "resultados = (num_a%2,num_b%2)\n",
    "\n",
    "opciones = {(0,0): \"los numeros {} y {} son pares\".format(num_a,num_b), (1,1):\n",
    "    \"los numeros {} y {} son impares\".format(num_a,num_b), (0,1): \"{} es par y {} impar\".format(num_a,num_b),\n",
    "            (1,0): \"{} es impar y {} par\".format(num_a,num_b) }\n",
    "\n",
    "print(opciones[resultados])"
   ]
  },
  {
   "cell_type": "markdown",
   "metadata": {},
   "source": [
    "Este caso se retomara al ver funciones en el modulo 5"
   ]
  },
  {
   "cell_type": "code",
   "execution_count": null,
   "metadata": {},
   "outputs": [],
   "source": []
  }
 ],
 "metadata": {
  "kernelspec": {
   "display_name": "Python 3",
   "language": "python",
   "name": "python3"
  },
  "language_info": {
   "codemirror_mode": {
    "name": "ipython",
    "version": 3
   },
   "file_extension": ".py",
   "mimetype": "text/x-python",
   "name": "python",
   "nbconvert_exporter": "python",
   "pygments_lexer": "ipython3",
   "version": "3.7.4"
  }
 },
 "nbformat": 4,
 "nbformat_minor": 4
}
