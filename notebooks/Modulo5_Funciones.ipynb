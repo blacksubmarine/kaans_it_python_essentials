{
 "cells": [
  {
   "cell_type": "markdown",
   "metadata": {},
   "source": [
    "# <span style=\"color:blue\"> Funciones </span>\n",
    "Hasta este momento solo hemos invocado funciones que vienen incluidas dentro de python (Build-in) como: print(), int(), input(), len() <br>\n",
    "Tambien hemos usado metodos de objetos que en el fondo siguen siendo funciones: como index(),append(), items(), values(), etc.\n",
    "\n",
    "**Ahora nos toca construir nuestros propias funciones** \n",
    "\n",
    "---\n",
    "\n",
    "#### ¿Para que nos sirve una función?\n",
    "\n",
    "Para repetir una porcion de codigo tantas veces como sea necesario durante la ejecucion de nuestro programa, evita que nuestro codigo sea demasiado extenso y repetitivo, es mas legible y nos permite separar un problema en piezas individuales mas sencillas\n",
    "\n",
    "---\n",
    "\n",
    "#### Sintaxis de una función\n",
    "Ejemplo 1"
   ]
  },
  {
   "cell_type": "code",
   "execution_count": 1,
   "metadata": {},
   "outputs": [
    {
     "name": "stdout",
     "output_type": "stream",
     "text": [
      "None\n"
     ]
    }
   ],
   "source": [
    "def funcion():\n",
    "    pass\n",
    "\n",
    "print(funcion())"
   ]
  },
  {
   "cell_type": "markdown",
   "metadata": {},
   "source": [
    "---\n",
    "Ejemplo 2"
   ]
  },
  {
   "cell_type": "code",
   "execution_count": 3,
   "metadata": {},
   "outputs": [
    {
     "name": "stdout",
     "output_type": "stream",
     "text": [
      "el numero es : 5\n"
     ]
    }
   ],
   "source": [
    "def print_num(num):\n",
    "    print(\"el numero es :\",num)\n",
    "    \n",
    "    \n",
    "n = 5\n",
    "print_num(n)"
   ]
  },
  {
   "cell_type": "markdown",
   "metadata": {},
   "source": [
    "---\n",
    "#### Una funcion siempre debe de ser llamada despues de su declaracion\n"
   ]
  },
  {
   "cell_type": "code",
   "execution_count": 4,
   "metadata": {},
   "outputs": [
    {
     "ename": "NameError",
     "evalue": "name 'mensaje' is not defined",
     "output_type": "error",
     "traceback": [
      "\u001b[1;31m---------------------------------------------------------------------------\u001b[0m",
      "\u001b[1;31mNameError\u001b[0m                                 Traceback (most recent call last)",
      "\u001b[1;32m<ipython-input-4-8b084ab89963>\u001b[0m in \u001b[0;36m<module>\u001b[1;34m\u001b[0m\n\u001b[1;32m----> 1\u001b[1;33m \u001b[0mmensaje\u001b[0m\u001b[1;33m(\u001b[0m\u001b[1;33m)\u001b[0m\u001b[1;33m\u001b[0m\u001b[1;33m\u001b[0m\u001b[0m\n\u001b[0m\u001b[0;32m      2\u001b[0m \u001b[1;33m\u001b[0m\u001b[0m\n\u001b[0;32m      3\u001b[0m \u001b[1;33m\u001b[0m\u001b[0m\n\u001b[0;32m      4\u001b[0m \u001b[1;32mdef\u001b[0m \u001b[0mmensaje\u001b[0m\u001b[1;33m(\u001b[0m\u001b[1;33m)\u001b[0m\u001b[1;33m:\u001b[0m\u001b[1;33m\u001b[0m\u001b[1;33m\u001b[0m\u001b[0m\n\u001b[0;32m      5\u001b[0m     \u001b[0mprint\u001b[0m\u001b[1;33m(\u001b[0m\u001b[1;34m\"Este es el mensaje de la funcion\"\u001b[0m\u001b[1;33m)\u001b[0m\u001b[1;33m\u001b[0m\u001b[1;33m\u001b[0m\u001b[0m\n",
      "\u001b[1;31mNameError\u001b[0m: name 'mensaje' is not defined"
     ]
    }
   ],
   "source": [
    "mensaje()\n",
    "\n",
    "\n",
    "def mensaje():\n",
    "    print(\"Este es el mensaje de la funcion\")"
   ]
  },
  {
   "cell_type": "code",
   "execution_count": 5,
   "metadata": {},
   "outputs": [
    {
     "name": "stdout",
     "output_type": "stream",
     "text": [
      "Este es el mensaje de la funcion\n"
     ]
    }
   ],
   "source": [
    "def mensaje():\n",
    "    print(\"Este es el mensaje de la funcion\")\n",
    "mensaje()"
   ]
  },
  {
   "cell_type": "markdown",
   "metadata": {},
   "source": [
    "---\n",
    "#### Al declarar una funcion debemos tener en cuenta los argumentos que pasaremos a la funcion "
   ]
  },
  {
   "cell_type": "code",
   "execution_count": 7,
   "metadata": {},
   "outputs": [
    {
     "ename": "TypeError",
     "evalue": "saludo() takes 0 positional arguments but 1 was given",
     "output_type": "error",
     "traceback": [
      "\u001b[1;31m---------------------------------------------------------------------------\u001b[0m",
      "\u001b[1;31mTypeError\u001b[0m                                 Traceback (most recent call last)",
      "\u001b[1;32m<ipython-input-7-2bea5f90e73e>\u001b[0m in \u001b[0;36m<module>\u001b[1;34m\u001b[0m\n\u001b[0;32m      2\u001b[0m     \u001b[0mprint\u001b[0m\u001b[1;33m(\u001b[0m\u001b[1;34m\"Hola\"\u001b[0m\u001b[1;33m)\u001b[0m\u001b[1;33m\u001b[0m\u001b[1;33m\u001b[0m\u001b[0m\n\u001b[0;32m      3\u001b[0m \u001b[1;33m\u001b[0m\u001b[0m\n\u001b[1;32m----> 4\u001b[1;33m \u001b[0msaludo\u001b[0m\u001b[1;33m(\u001b[0m\u001b[1;36m5\u001b[0m\u001b[1;33m)\u001b[0m\u001b[1;33m\u001b[0m\u001b[1;33m\u001b[0m\u001b[0m\n\u001b[0m",
      "\u001b[1;31mTypeError\u001b[0m: saludo() takes 0 positional arguments but 1 was given"
     ]
    }
   ],
   "source": [
    "def saludo():\n",
    "    print(\"Hola\")\n",
    "\n",
    "saludo(5)"
   ]
  },
  {
   "cell_type": "markdown",
   "metadata": {},
   "source": [
    "Tienes que agregar en la llamada a la duncion tantos argumentos como parametros tenga la declaracion de la funcion\n",
    "\n",
    "---"
   ]
  },
  {
   "cell_type": "markdown",
   "metadata": {},
   "source": [
    "## <span style=\"color:#997300\">Shadowing </span>\n",
    "\n",
    "Una variable se oculta si se repite como parametro dentro de una funcion"
   ]
  },
  {
   "cell_type": "code",
   "execution_count": 10,
   "metadata": {},
   "outputs": [
    {
     "name": "stdout",
     "output_type": "stream",
     "text": [
      "El numero dentro de la funcion es: 1000\n",
      "El numero fuera de la funcion es: 1234\n"
     ]
    }
   ],
   "source": [
    "def message(num):\n",
    "    print(\"El numero dentro de la funcion es:\", num)\n",
    "\n",
    "num = 1234\n",
    "message(1000)\n",
    "print(\"El numero fuera de la funcion es:\",num)"
   ]
  },
  {
   "cell_type": "markdown",
   "metadata": {},
   "source": [
    "### Posicion de parametros: "
   ]
  },
  {
   "cell_type": "code",
   "execution_count": 14,
   "metadata": {},
   "outputs": [
    {
     "name": "stdout",
     "output_type": "stream",
     "text": [
      "Mi nombre es juan y el apellido es Ramirez\n",
      "Mi nombre es alejandra y el apellido es Cordova\n",
      "Mi nombre es Pedro y el apellido es Sanchez\n",
      "Mi nombre es Campos y el apellido es Irving\n"
     ]
    }
   ],
   "source": [
    "def msg(nombre,apellido):\n",
    "    print(\"Mi nombre es\",nombre,\"y el apellido es\",apellido)\n",
    "    \n",
    "\n",
    "\n",
    "msg(\"juan\",\"Ramirez\")\n",
    "msg(\"alejandra\",\"Cordova\")\n",
    "msg(\"Pedro\",\"Sanchez\")\n",
    "msg(\"Campos\", \"Irving\")\n",
    "\n"
   ]
  },
  {
   "cell_type": "markdown",
   "metadata": {},
   "source": [
    "---\n",
    "### Uso de funciones dentro de ciclos\n",
    "Ejercicio: Hacer un programa que reciba una lista de palabras y capitalize cada una de ellas, al finalizar imprimirlas en pantalla dentro de la funcion "
   ]
  },
  {
   "cell_type": "code",
   "execution_count": 32,
   "metadata": {},
   "outputs": [
    {
     "name": "stdout",
     "output_type": "stream",
     "text": [
      "Wise\n"
     ]
    }
   ],
   "source": [
    "palabras = [\"wise\",\"busy\",\"past\",\"both\",\"park\",\"when\",\"an\",\"ye\",\"no.\",\"Nay\",\"likely\",\"her\",\"length\",\"sooner\",\"thrown\",\"sex\",\"lively\",\"income\"]\n",
    "\n",
    "#output: Wise Busy Past Both Park When An Ye No. Nay Likely Her Length Sooner Thrown Sex Lively Income \n",
    "\n",
    "\n",
    "\n",
    "\n",
    "\n",
    "\n",
    "\n",
    "\n",
    "\n"
   ]
  },
  {
   "cell_type": "markdown",
   "metadata": {},
   "source": [
    "### Hacer un programa que le pida al usuario por teclado un numero decimal y que le pida una opcion para convertirlo a binario, octal o hexadecimal"
   ]
  },
  {
   "cell_type": "code",
   "execution_count": 24,
   "metadata": {},
   "outputs": [],
   "source": [
    "#  input: int\n",
    "# input2: \"bin\", \"oct\", \"hex\"\n",
    "\n",
    "#ejemplo 12, hex --> output: 0x0c\n"
   ]
  },
  {
   "cell_type": "markdown",
   "metadata": {},
   "source": [
    "## <span style=\"color:#997300\"> Keyword argument passing </span>\n",
    "\n",
    "Python ofrece la convencion de pasar argumentos donde el significado de estos argumentos esta dictado por su nombre"
   ]
  },
  {
   "cell_type": "code",
   "execution_count": 49,
   "metadata": {},
   "outputs": [
    {
     "name": "stdout",
     "output_type": "stream",
     "text": [
      "9\n"
     ]
    }
   ],
   "source": [
    "def fun(x , y , z):\n",
    "    return x+ 2* y + 3 * z\n",
    "\n",
    "print(fun(0,z=1,y=3))"
   ]
  },
  {
   "cell_type": "code",
   "execution_count": 26,
   "metadata": {},
   "outputs": [
    {
     "name": "stdout",
     "output_type": "stream",
     "text": [
      "Mi nombre es Juan y el apellido es Ramirez\n",
      "Mi nombre es Alejandra y el apellido es Cordova\n",
      "Mi nombre es Pedro y el apellido es Sanchez\n",
      "Mi nombre es Irving y el apellido es Campos\n"
     ]
    }
   ],
   "source": [
    "def msg(nombre,apellido):\n",
    "    print(\"Mi nombre es\",nombre,\"y el apellido es\",apellido)\n",
    "    \n",
    "\n",
    "\n",
    "msg(nombre=\"Juan\",apellido=\"Ramirez\")\n",
    "msg(nombre=\"Alejandra\",apellido=\"Cordova\")\n",
    "msg(nombre=\"Pedro\",apellido=\"Sanchez\")\n",
    "msg(apellido=\"Campos\", nombre=\"Irving\")\n"
   ]
  },
  {
   "cell_type": "markdown",
   "metadata": {},
   "source": [
    "--- \n",
    "nota: Recordar que no se pueden usar nombres reservados como variables o ingresar nombres que no esten definidos\n",
    "\n",
    "---"
   ]
  },
  {
   "cell_type": "markdown",
   "metadata": {},
   "source": [
    "## Mezclando argumentos posicionales y argumentos clave (postional y keyword arguments)"
   ]
  },
  {
   "cell_type": "code",
   "execution_count": 28,
   "metadata": {},
   "outputs": [
    {
     "name": "stdout",
     "output_type": "stream",
     "text": [
      "2 + 3 + 1 = 6\n"
     ]
    }
   ],
   "source": [
    "#Sumar 3 numeros dentro de una funcion\n",
    "def adding(a, b, c):\n",
    "    print(a, \"+\", b, \"+\", c, \"=\", a + b + c)\n",
    "adding(c = 1, a = 2, b = 3)"
   ]
  },
  {
   "cell_type": "code",
   "execution_count": 31,
   "metadata": {},
   "outputs": [
    {
     "name": "stdout",
     "output_type": "stream",
     "text": [
      "3 + 2 + 1 = 6\n"
     ]
    }
   ],
   "source": [
    "adding(3, c = 1, b = 2)"
   ]
  },
  {
   "cell_type": "markdown",
   "metadata": {},
   "source": [
    "### Crear un programa usando funciones que determine si un numero es par o impar"
   ]
  },
  {
   "cell_type": "code",
   "execution_count": 33,
   "metadata": {},
   "outputs": [],
   "source": [
    "### codigo"
   ]
  },
  {
   "cell_type": "markdown",
   "metadata": {},
   "source": [
    "## Listas y funciones"
   ]
  },
  {
   "cell_type": "code",
   "execution_count": 36,
   "metadata": {},
   "outputs": [
    {
     "name": "stdout",
     "output_type": "stream",
     "text": [
      "66\n"
     ]
    }
   ],
   "source": [
    "def list_sum(lst):\n",
    "    s = 0\n",
    "    \n",
    "    for elem in lst:\n",
    "        s += elem\n",
    "    \n",
    "    return s\n",
    "lista = list(range(12))\n",
    "print(list_sum(lista))"
   ]
  },
  {
   "cell_type": "markdown",
   "metadata": {},
   "source": [
    "## Alcance de variables"
   ]
  },
  {
   "cell_type": "code",
   "execution_count": null,
   "metadata": {},
   "outputs": [],
   "source": [
    "def myFunction():\n",
    "    print(\"Existe la variable var:\", var)\n",
    "\n",
    "var = 1\n",
    "myFunction()\n",
    "print(var)"
   ]
  },
  {
   "cell_type": "markdown",
   "metadata": {},
   "source": [
    "## Variables locales y globales"
   ]
  },
  {
   "cell_type": "code",
   "execution_count": 37,
   "metadata": {},
   "outputs": [
    {
     "name": "stdout",
     "output_type": "stream",
     "text": [
      "El valor de la variable var es: 2\n",
      "2\n"
     ]
    }
   ],
   "source": [
    "def myFunction():\n",
    "    global var\n",
    "    var = 2\n",
    "    print(\"El valor de la variable var es:\", var)\n",
    "\n",
    "var = 1\n",
    "myFunction()\n",
    "print(var)"
   ]
  },
  {
   "cell_type": "markdown",
   "metadata": {},
   "source": [
    "---\n",
    "El valor de la variable quedo sobreescrito al ser usado dentro de una funcion con global\n",
    "\n",
    "---\n",
    "Dentro de las funciones solo se modifica el valor dentro de las mismas, afuera queda intacto"
   ]
  },
  {
   "cell_type": "code",
   "execution_count": 39,
   "metadata": {},
   "outputs": [
    {
     "name": "stdout",
     "output_type": "stream",
     "text": [
      "[2, 3]\n",
      "2483943531528\n",
      "[2, 3]\n",
      "2483940982984\n"
     ]
    }
   ],
   "source": [
    "def myFunction(myList1):\n",
    "    print(myList1)\n",
    "    myList1 = [0, 1]\n",
    "    print(id(myList1))\n",
    "\n",
    "myList2 = [2, 3]\n",
    "myFunction(myList2)\n",
    "print(myList2)\n",
    "print(id(myList2))"
   ]
  },
  {
   "cell_type": "markdown",
   "metadata": {},
   "source": [
    "## En cambio si usamos **del**"
   ]
  },
  {
   "cell_type": "code",
   "execution_count": 41,
   "metadata": {},
   "outputs": [
    {
     "name": "stdout",
     "output_type": "stream",
     "text": [
      "[2, 3]\n",
      "[3]\n"
     ]
    }
   ],
   "source": [
    "def myFunction(myList1):\n",
    "    print(myList1)\n",
    "    del myList1[0]\n",
    "\n",
    "myList2 = [2, 3]\n",
    "myFunction(myList2)\n",
    "print(myList2)"
   ]
  },
  {
   "cell_type": "code",
   "execution_count": 42,
   "metadata": {},
   "outputs": [
    {
     "name": "stdout",
     "output_type": "stream",
     "text": [
      "1 -> 1\n",
      "2 -> 1\n",
      "3 -> 2\n",
      "4 -> 3\n",
      "5 -> 5\n",
      "6 -> 8\n",
      "7 -> 13\n",
      "8 -> 21\n",
      "9 -> 34\n"
     ]
    }
   ],
   "source": [
    "# Recursion\n",
    "# La recursion es una tecnica donde una funcion se manda a llamar a si misma\n",
    "\n",
    "def fib(n):\n",
    "    if n < 1:\n",
    "         return None\n",
    "    if n < 3:\n",
    "        return 1\n",
    "\n",
    "    elem1 = elem2 = 1\n",
    "    sum = 0\n",
    "    for i in range(3, n + 1):\n",
    "        sum = elem1 + elem2\n",
    "        elem1, elem2 = elem2, sum\n",
    "    return sum\n",
    "\n",
    "for n in range(1, 10):\n",
    "    print(n, \"->\", fib(n))"
   ]
  },
  {
   "cell_type": "code",
   "execution_count": 43,
   "metadata": {},
   "outputs": [],
   "source": [
    "def fib(n):\n",
    "    if n < 1:\n",
    "        return None\n",
    "    if n < 3:\n",
    "        return 1\n",
    "    return fib(n - 1) + fib(n - 2)"
   ]
  },
  {
   "cell_type": "markdown",
   "metadata": {},
   "source": [
    "*Al definir una funcion recursiva debemos estar seguros de que la condicion de salida este bien definida para que no entremos en un ciclo infinito*"
   ]
  },
  {
   "cell_type": "code",
   "execution_count": 48,
   "metadata": {},
   "outputs": [
    {
     "name": "stdout",
     "output_type": "stream",
     "text": [
      "0 -> 34\n",
      "1 -> 34\n",
      "2 -> 34\n",
      "3 -> 34\n",
      "4 -> 34\n",
      "5 -> 34\n",
      "6 -> 34\n",
      "7 -> 34\n",
      "8 -> 34\n",
      "9 -> 34\n"
     ]
    }
   ],
   "source": [
    "for n in range(10):\n",
    "    print(n, \"->\", fib(i))\n"
   ]
  },
  {
   "cell_type": "code",
   "execution_count": 50,
   "metadata": {},
   "outputs": [
    {
     "name": "stdout",
     "output_type": "stream",
     "text": [
      "True\n",
      "False\n",
      "True\n"
     ]
    }
   ],
   "source": [
    "def es_par(a):\n",
    "    return True if a%2==0 else False\n",
    "\n",
    "print(es_par(2))\n",
    "print(es_par(5))\n",
    "print(es_par(0))\n",
    "    "
   ]
  },
  {
   "cell_type": "code",
   "execution_count": null,
   "metadata": {},
   "outputs": [],
   "source": []
  }
 ],
 "metadata": {
  "kernelspec": {
   "display_name": "Python 3",
   "language": "python",
   "name": "python3"
  },
  "language_info": {
   "codemirror_mode": {
    "name": "ipython",
    "version": 3
   },
   "file_extension": ".py",
   "mimetype": "text/x-python",
   "name": "python",
   "nbconvert_exporter": "python",
   "pygments_lexer": "ipython3",
   "version": "3.7.4"
  }
 },
 "nbformat": 4,
 "nbformat_minor": 2
}
